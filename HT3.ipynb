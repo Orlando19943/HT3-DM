{
 "cells": [
  {
   "cell_type": "code",
   "execution_count": 1,
   "metadata": {},
   "outputs": [],
   "source": [
    "import pandas as pd\n",
    "import numpy as np"
   ]
  },
  {
   "cell_type": "markdown",
   "metadata": {},
   "source": [
    "#### Cargando Datos"
   ]
  },
  {
   "cell_type": "code",
   "execution_count": 5,
   "metadata": {},
   "outputs": [
    {
     "data": {
      "text/plain": [
       "0        Normal\n",
       "1        Normal\n",
       "2        Normal\n",
       "3        Normal\n",
       "4        Normal\n",
       "         ...   \n",
       "1454     Normal\n",
       "1455    Abnorml\n",
       "1456    Abnorml\n",
       "1457     Normal\n",
       "1458     Normal\n",
       "Name: SaleCondition, Length: 1459, dtype: object"
      ]
     },
     "execution_count": 5,
     "metadata": {},
     "output_type": "execute_result"
    }
   ],
   "source": [
    "\n",
    "test = pd.read_csv(\"./test.csv\")\n",
    "test[\"SaleCondition\"]"
   ]
  },
  {
   "cell_type": "code",
   "execution_count": 35,
   "metadata": {},
   "outputs": [
    {
     "data": {
      "text/plain": [
       "0          0\n",
       "1          0\n",
       "2          0\n",
       "3          0\n",
       "4          0\n",
       "        ... \n",
       "1455       0\n",
       "1456       0\n",
       "1457    2500\n",
       "1458       0\n",
       "1459       0\n",
       "Name: MiscVal, Length: 1460, dtype: int64"
      ]
     },
     "execution_count": 35,
     "metadata": {},
     "output_type": "execute_result"
    }
   ],
   "source": [
    "train = pd.read_csv(\"./train.csv\")\n",
    "train[\"MiscVal\"].dropna()"
   ]
  },
  {
   "cell_type": "markdown",
   "metadata": {},
   "source": [
    "#### Variables\n",
    "- **SalePrice** → Cuantitativa discreta     \n",
    "- **MSSubClass** → Cuantitativa discreta\n",
    "- **MSZoning** → Cualitativa nominal \n",
    "- **LotFrontage** → Cualitativa continua \n",
    "- **LotArea** → Cuantitativa discreta \n",
    "- **Street** → Cualitativa nominal \n",
    "- **Alley** → Cualitativa nominal \n",
    "- **LotShape** → Cualitativa nominal \n",
    "- **LandContour** → Cualitativa ordinal **(Tengo duda con esta)** \n",
    "- **Utilities** → Cualitativa nominal \n",
    "- **LotConfig** → Cualitativa nominal \n",
    "- **LandSlope** → Cualitativa ordinal \n",
    "- **Neighborhood** → Cualitativa nominal\n",
    "- **Condition1** → Cualitativa nominal\n",
    "- **Condition2** → Cualitativa nominal\n",
    "- **BldgType** → Cualitativa ordinal\n",
    "- **HouseStyle** → Cualitativa ordinal\n",
    "- **OverallQual** → Cualitativa ordinal\n",
    "- **OverallCond** → Cualitativa ordinal\n",
    "- **YearBuilt** → Cualitativa ordinal\n",
    "- **YearRemodAdd** → Cualitativa ordinal\n",
    "- **RoofStyle** → Cualitativa nominal\n",
    "- **RoofMatl** → Cualitativa nominal\n",
    "- **Exterior1st** → Cualitativa nominal\n",
    "- **Exterior2nd** → Cualitativa nominal\n",
    "- **MasVnrType** → Cualitativa nominal\n",
    "- **MasVnrArea** → Cuantitativa continua\n",
    "- **ExterQual** → Cualitativa ordinal\n",
    "- **ExterCond** → Cualitativa ordinal\n",
    "- **Foundation** → Cualitativa nominal\n",
    "- **BsmtQual** → Cualitativa ordinal\n",
    "- **BsmtCond** → Cualitativa ordinal\n",
    "- **BsmtExposure** → Cualitativa ordinal\n",
    "- **BsmtFinType1** → Cualitativa ordinal\n",
    "- **BsmtFinSF1** → Cuantitativa discreta\n",
    "- **BsmtFinType2** → Cualitativa ordinal\n",
    "- **BsmtFinSF2** → Cuantitativa discreta\n",
    "- **BsmtUnfSF** → Cuantitativa discreta\n",
    "- **TotalBsmtSF** → Cuantitativa discreta\n",
    "- **Heating** → Cualitativa nominal\n",
    "- **HeatingQC** → Cualitativa ordinal\n",
    "- **CentralAir** → Cualitativa nominal\n",
    "- **Electrical** → Cualitativa nominal\n",
    "- **1stFlrSF** → Cuantitativa discreta\n",
    "- **2ndFlrSF** → Cuantitativa discreta\n",
    "- **LowQualFinSF** → Cuantitativa discreta\n",
    "- **GrLivArea** → Cuantitativa discreta\n",
    "- **BsmtFullBath** → Cuantitativa discreta\n",
    "- **BsmtHalfBath** → Cuantitativa discreta\n",
    "- **FullBath** → Cuantitativa discreta\n",
    "- **HalfBath** → Cuantitativa discreta\n",
    "- **Bedroom** → Cuantitativa discreta\n",
    "- **Kitchen** → Cuantitativa discreta\n",
    "- **KitchenQual** → Cualitativa ordinal\n",
    "- **TotRmsAbvGrd** → Cuantitativa discreta\n",
    "- **Functional** → Cualitativa ordinal\n",
    "- **Fireplaces** → Cuantitativa discreta\n",
    "- **FireplaceQu** → Cualitativa ordinal\n",
    "- **GarageType** → Cualitativa nominal\n",
    "- **GarageYrBlt** → Cualitativa ordinal\n",
    "- **GarageFinish** → Cualitativa ordinal\n",
    "- **GarageCars** → Cuantitativa discreta\n",
    "- **GarageArea** → Cuantitativa discreta\n",
    "- **GarageQual** → Cualitativa ordinal\n",
    "- **GarageCond** → Cualitativa ordinal\n",
    "- **PavedDrive** → Cualitativa ordinal\n",
    "- **WoodDeckSF** → Cuantitativa discreta\n",
    "- **OpenPorchSF** → Cuantitativa discreta\n",
    "- **EnclosedPorch** → Cuantitativa discreta\n",
    "- **3SsnPorch** → Cuantitativa discreta\n",
    "- **ScreenPorch** → Cuantitativa discreta\n",
    "- **PoolArea** → Cuantitativa discreta\n",
    "- **PoolQC** → Cualitativa ordinal\n",
    "- **Fence** → Cualitativa ordinal\n",
    "- **MiscFeature** → Cualitativa nominal\n",
    "- **MiscVal** → Cuantitativa discreta\n",
    "- **MoSold** → Cualitativa nominal\n",
    "- **YrSold** → Cualitativa nominal\n",
    "- **SaleType** → Cualitativa nominal\n",
    "- **SaleCondition** → Cualitativa nominal\n"
   ]
  },
  {
   "cell_type": "markdown",
   "metadata": {},
   "source": []
  },
  {
   "cell_type": "code",
   "execution_count": null,
   "metadata": {},
   "outputs": [],
   "source": []
  }
 ],
 "metadata": {
  "interpreter": {
   "hash": "61d646d785e0291a1f5acfc36a2e7a6293e7bb5404e00c48841c63328e8b824a"
  },
  "kernelspec": {
   "display_name": "Python 3.9.6 64-bit",
   "language": "python",
   "name": "python3"
  },
  "language_info": {
   "codemirror_mode": {
    "name": "ipython",
    "version": 3
   },
   "file_extension": ".py",
   "mimetype": "text/x-python",
   "name": "python",
   "nbconvert_exporter": "python",
   "pygments_lexer": "ipython3",
   "version": "3.9.6"
  },
  "orig_nbformat": 4
 },
 "nbformat": 4,
 "nbformat_minor": 2
}
